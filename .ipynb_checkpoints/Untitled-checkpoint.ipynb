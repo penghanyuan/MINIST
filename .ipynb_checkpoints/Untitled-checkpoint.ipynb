{
 "cells": [
  {
   "cell_type": "code",
   "execution_count": 22,
   "metadata": {},
   "outputs": [
    {
     "name": "stdout",
     "output_type": "stream",
     "text": [
      "Extracting MNIST_data/train-images-idx3-ubyte.gz\n",
      "Extracting MNIST_data/train-labels-idx1-ubyte.gz\n",
      "Extracting MNIST_data/t10k-images-idx3-ubyte.gz\n",
      "Extracting MNIST_data/t10k-labels-idx1-ubyte.gz\n",
      "0.9136\n"
     ]
    }
   ],
   "source": [
    "import tensorflow as tf;\n",
    "import input_data;\n",
    "\n",
    "mnist = input_data.read_data_sets(\"MNIST_data/\", one_hot=True)\n",
    "x = tf.placeholder(\"float\", [None,784]);\n",
    "\n",
    "W = tf.Variable(tf.zeros([784,10]));\n",
    "b = tf.Variable(tf.zeros([10]));\n",
    "\n",
    "y = tf.nn.softmax(tf.matmul(x,W) + b);\n",
    "\n",
    "y_ = tf.placeholder(\"float\", [None,10]);\n",
    "\n",
    "cross_entropy = -tf.reduce_sum(y_*tf.log(y));\n",
    "train_step = tf.train.GradientDescentOptimizer(0.01).minimize(cross_entropy);\n",
    "\n",
    "init = tf.initialize_all_variables();\n",
    "sess = tf.Session();\n",
    "sess.run(init);\n",
    "\n",
    "for i in range(2000):\n",
    "    batch_xs, batch_ys = mnist.train.next_batch(100);\n",
    "    sess.run(train_step, feed_dict={x: batch_xs, y_: batch_ys});\n",
    "\n",
    "correct_prediction = tf.equal(tf.argmax(y,1), tf.argmax(y_,1));\n",
    "accuracy = tf.reduce_mean(tf.cast(correct_prediction, \"float\"))\n",
    "\n",
    "print sess.run(accuracy, feed_dict={x: mnist.test.images, y_: mnist.test.labels})"
   ]
  },
  {
   "cell_type": "code",
   "execution_count": null,
   "metadata": {
    "collapsed": true
   },
   "outputs": [],
   "source": []
  }
 ],
 "metadata": {
  "kernelspec": {
   "display_name": "Python 2",
   "language": "python",
   "name": "python2"
  },
  "language_info": {
   "codemirror_mode": {
    "name": "ipython",
    "version": 2
   },
   "file_extension": ".py",
   "mimetype": "text/x-python",
   "name": "python",
   "nbconvert_exporter": "python",
   "pygments_lexer": "ipython2",
   "version": "2.7.13"
  }
 },
 "nbformat": 4,
 "nbformat_minor": 2
}
